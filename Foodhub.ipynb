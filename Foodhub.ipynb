{
 "cells": [
  {
   "cell_type": "markdown",
   "metadata": {
    "id": "Gc8x8QimJY_H"
   },
   "source": [
    "# Project Python Foundations: FoodHub Data Analysis\n",
    "\n",
    "**Marks: 60**"
   ]
  },
  {
   "cell_type": "markdown",
   "metadata": {
    "id": "NqikjkWwJY_L"
   },
   "source": [
    "### Context\n",
    "\n",
    "The number of restaurants in New York is increasing day by day. Lots of students and busy professionals rely on those restaurants due to their hectic lifestyles. Online food delivery service is a great option for them. It provides them with good food from their favorite restaurants. A food aggregator company FoodHub offers access to multiple restaurants through a single smartphone app.\n",
    "\n",
    "The app allows the restaurants to receive a direct online order from a customer. The app assigns a delivery person from the company to pick up the order after it is confirmed by the restaurant. The delivery person then uses the map to reach the restaurant and waits for the food package. Once the food package is handed over to the delivery person, he/she confirms the pick-up in the app and travels to the customer's location to deliver the food. The delivery person confirms the drop-off in the app after delivering the food package to the customer. The customer can rate the order in the app. The food aggregator earns money by collecting a fixed margin of the delivery order from the restaurants.\n",
    "\n",
    "### Objective\n",
    "\n",
    "The food aggregator company has stored the data of the different orders made by the registered customers in their online portal. They want to analyze the data to get a fair idea about the demand of different restaurants which will help them in enhancing their customer experience. Suppose you are hired as a Data Scientist in this company and the Data Science team has shared some of the key questions that need to be answered. Perform the data analysis to find answers to these questions that will help the company to improve the business. \n",
    "\n",
    "### Data Description\n",
    "\n",
    "The data contains the different data related to a food order. The detailed data dictionary is given below.\n",
    "\n",
    "### Data Dictionary\n",
    "\n",
    "* order_id: Unique ID of the order\n",
    "* customer_id: ID of the customer who ordered the food\n",
    "* restaurant_name: Name of the restaurant\n",
    "* cuisine_type: Cuisine ordered by the customer\n",
    "* cost: Cost of the order\n",
    "* day_of_the_week: Indicates whether the order is placed on a weekday or weekend (The weekday is from Monday to Friday and the weekend is Saturday and Sunday)\n",
    "* rating: Rating given by the customer out of 5\n",
    "* food_preparation_time: Time (in minutes) taken by the restaurant to prepare the food. This is calculated by taking the difference between the timestamps of the restaurant's order confirmation and the delivery person's pick-up confirmation.\n",
    "* delivery_time: Time (in minutes) taken by the delivery person to deliver the food package. This is calculated by taking the difference between the timestamps of the delivery person's pick-up confirmation and drop-off information"
   ]
  },
  {
   "cell_type": "markdown",
   "metadata": {
    "id": "cEtNUxNAJY_M"
   },
   "source": [
    "### Let us start by importing the required libraries"
   ]
  },
  {
   "cell_type": "code",
   "execution_count": 88,
   "metadata": {
    "id": "u6PlpJAPJY_N"
   },
   "outputs": [],
   "source": [
    "# import libraries for data manipulation\n",
    "import numpy as np\n",
    "import pandas as pd\n",
    "\n",
    "# import libraries for data visualization\n",
    "import matplotlib.pyplot as plt\n",
    "import seaborn as sns"
   ]
  },
  {
   "cell_type": "markdown",
   "metadata": {
    "id": "AdracY0HJY_O"
   },
   "source": [
    "### Understanding the structure of the data"
   ]
  },
  {
   "cell_type": "code",
   "execution_count": 89,
   "metadata": {
    "id": "WBh2ZGB9kFhU"
   },
   "outputs": [],
   "source": [
    "# uncomment and run the following lines for Google Colab\n",
    "# from google.colab import drive\n",
    "# drive.mount('/content/drive')"
   ]
  },
  {
   "cell_type": "code",
   "execution_count": 90,
   "metadata": {
    "id": "GF01IZDbJY_O",
    "scrolled": true
   },
   "outputs": [
    {
     "data": {
      "text/html": [
       "<div>\n",
       "<style scoped>\n",
       "    .dataframe tbody tr th:only-of-type {\n",
       "        vertical-align: middle;\n",
       "    }\n",
       "\n",
       "    .dataframe tbody tr th {\n",
       "        vertical-align: top;\n",
       "    }\n",
       "\n",
       "    .dataframe thead th {\n",
       "        text-align: right;\n",
       "    }\n",
       "</style>\n",
       "<table border=\"1\" class=\"dataframe\">\n",
       "  <thead>\n",
       "    <tr style=\"text-align: right;\">\n",
       "      <th></th>\n",
       "      <th>order_id</th>\n",
       "      <th>customer_id</th>\n",
       "      <th>restaurant_name</th>\n",
       "      <th>cuisine_type</th>\n",
       "      <th>cost_of_the_order</th>\n",
       "      <th>day_of_the_week</th>\n",
       "      <th>rating</th>\n",
       "      <th>food_preparation_time</th>\n",
       "      <th>delivery_time</th>\n",
       "    </tr>\n",
       "  </thead>\n",
       "  <tbody>\n",
       "    <tr>\n",
       "      <th>0</th>\n",
       "      <td>1477147</td>\n",
       "      <td>337525</td>\n",
       "      <td>Hangawi</td>\n",
       "      <td>Korean</td>\n",
       "      <td>30.75</td>\n",
       "      <td>Weekend</td>\n",
       "      <td>Not given</td>\n",
       "      <td>25</td>\n",
       "      <td>20</td>\n",
       "    </tr>\n",
       "    <tr>\n",
       "      <th>1</th>\n",
       "      <td>1477685</td>\n",
       "      <td>358141</td>\n",
       "      <td>Blue Ribbon Sushi Izakaya</td>\n",
       "      <td>Japanese</td>\n",
       "      <td>12.08</td>\n",
       "      <td>Weekend</td>\n",
       "      <td>Not given</td>\n",
       "      <td>25</td>\n",
       "      <td>23</td>\n",
       "    </tr>\n",
       "    <tr>\n",
       "      <th>2</th>\n",
       "      <td>1477070</td>\n",
       "      <td>66393</td>\n",
       "      <td>Cafe Habana</td>\n",
       "      <td>Mexican</td>\n",
       "      <td>12.23</td>\n",
       "      <td>Weekday</td>\n",
       "      <td>5</td>\n",
       "      <td>23</td>\n",
       "      <td>28</td>\n",
       "    </tr>\n",
       "    <tr>\n",
       "      <th>3</th>\n",
       "      <td>1477334</td>\n",
       "      <td>106968</td>\n",
       "      <td>Blue Ribbon Fried Chicken</td>\n",
       "      <td>American</td>\n",
       "      <td>29.20</td>\n",
       "      <td>Weekend</td>\n",
       "      <td>3</td>\n",
       "      <td>25</td>\n",
       "      <td>15</td>\n",
       "    </tr>\n",
       "    <tr>\n",
       "      <th>4</th>\n",
       "      <td>1478249</td>\n",
       "      <td>76942</td>\n",
       "      <td>Dirty Bird to Go</td>\n",
       "      <td>American</td>\n",
       "      <td>11.59</td>\n",
       "      <td>Weekday</td>\n",
       "      <td>4</td>\n",
       "      <td>25</td>\n",
       "      <td>24</td>\n",
       "    </tr>\n",
       "  </tbody>\n",
       "</table>\n",
       "</div>"
      ],
      "text/plain": [
       "   order_id  customer_id            restaurant_name cuisine_type  \\\n",
       "0   1477147       337525                    Hangawi       Korean   \n",
       "1   1477685       358141  Blue Ribbon Sushi Izakaya     Japanese   \n",
       "2   1477070        66393                Cafe Habana      Mexican   \n",
       "3   1477334       106968  Blue Ribbon Fried Chicken     American   \n",
       "4   1478249        76942           Dirty Bird to Go     American   \n",
       "\n",
       "   cost_of_the_order day_of_the_week     rating  food_preparation_time  \\\n",
       "0              30.75         Weekend  Not given                     25   \n",
       "1              12.08         Weekend  Not given                     25   \n",
       "2              12.23         Weekday          5                     23   \n",
       "3              29.20         Weekend          3                     25   \n",
       "4              11.59         Weekday          4                     25   \n",
       "\n",
       "   delivery_time  \n",
       "0             20  \n",
       "1             23  \n",
       "2             28  \n",
       "3             15  \n",
       "4             24  "
      ]
     },
     "execution_count": 90,
     "metadata": {},
     "output_type": "execute_result"
    }
   ],
   "source": [
    "# read the data\n",
    "df = pd.read_csv('/Users/nadiyazaver/Desktop/foodhub_order.csv')\n",
    "# returns the first 5 rows\n",
    "df.head()"
   ]
  },
  {
   "cell_type": "markdown",
   "metadata": {
    "id": "J_Y9aJDJJY_P"
   },
   "source": [
    "#### Observations:\n",
    "\n",
    "The DataFrame has 9 columns as mentioned in the Data Dictionary. Data in each row corresponds to the order placed by a customer."
   ]
  },
  {
   "cell_type": "markdown",
   "metadata": {
    "id": "c3kenV4vJY_Q"
   },
   "source": [
    "### **Question 1:** How many rows and columns are present in the data? [0.5 mark]"
   ]
  },
  {
   "cell_type": "code",
   "execution_count": 91,
   "metadata": {
    "id": "Yvz5i-PhJY_Q"
   },
   "outputs": [
    {
     "data": {
      "text/plain": [
       "(1898, 9)"
      ]
     },
     "execution_count": 91,
     "metadata": {},
     "output_type": "execute_result"
    }
   ],
   "source": [
    "df.shape"
   ]
  },
  {
   "cell_type": "markdown",
   "metadata": {
    "id": "UsTNy3unJY_R"
   },
   "source": [
    "#### Observations:\n"
   ]
  },
  {
   "cell_type": "markdown",
   "metadata": {
    "id": "jRXakVrUJY_R"
   },
   "source": [
    "### **Question 2:** What are the datatypes of the different columns in the dataset? (The info() function can be used) [0.5 mark]"
   ]
  },
  {
   "cell_type": "code",
   "execution_count": 92,
   "metadata": {
    "id": "Kp70Z0BNJY_R"
   },
   "outputs": [
    {
     "name": "stdout",
     "output_type": "stream",
     "text": [
      "<class 'pandas.core.frame.DataFrame'>\n",
      "RangeIndex: 1898 entries, 0 to 1897\n",
      "Data columns (total 9 columns):\n",
      " #   Column                 Non-Null Count  Dtype  \n",
      "---  ------                 --------------  -----  \n",
      " 0   order_id               1898 non-null   int64  \n",
      " 1   customer_id            1898 non-null   int64  \n",
      " 2   restaurant_name        1898 non-null   object \n",
      " 3   cuisine_type           1898 non-null   object \n",
      " 4   cost_of_the_order      1898 non-null   float64\n",
      " 5   day_of_the_week        1898 non-null   object \n",
      " 6   rating                 1898 non-null   object \n",
      " 7   food_preparation_time  1898 non-null   int64  \n",
      " 8   delivery_time          1898 non-null   int64  \n",
      "dtypes: float64(1), int64(4), object(4)\n",
      "memory usage: 133.6+ KB\n"
     ]
    }
   ],
   "source": [
    "# Use info() to print a concise summary of the DataFrame\n",
    "df.info()"
   ]
  },
  {
   "cell_type": "markdown",
   "metadata": {
    "id": "WJes5GP2JY_S"
   },
   "source": [
    "#### Observations:\n"
   ]
  },
  {
   "cell_type": "markdown",
   "metadata": {
    "id": "pF_92MN6JY_S"
   },
   "source": [
    "### **Question 3:** Are there any missing values in the data? If yes, treat them using an appropriate method. [1 mark]"
   ]
  },
  {
   "cell_type": "code",
   "execution_count": 93,
   "metadata": {
    "id": "Zth-RR1PJY_S"
   },
   "outputs": [
    {
     "data": {
      "text/plain": [
       "order_id                 0\n",
       "customer_id              0\n",
       "restaurant_name          0\n",
       "cuisine_type             0\n",
       "cost_of_the_order        0\n",
       "day_of_the_week          0\n",
       "rating                   0\n",
       "food_preparation_time    0\n",
       "delivery_time            0\n",
       "dtype: int64"
      ]
     },
     "execution_count": 93,
     "metadata": {},
     "output_type": "execute_result"
    }
   ],
   "source": [
    "# Write your code here\n",
    "# Finding null values in each series\n",
    "df.isnull().sum()"
   ]
  },
  {
   "cell_type": "markdown",
   "metadata": {
    "id": "jDHT3vD1JY_S"
   },
   "source": [
    "#### Observations:\n"
   ]
  },
  {
   "cell_type": "markdown",
   "metadata": {
    "id": "MnJo7MWrJY_S"
   },
   "source": [
    "### **Question 4:** Check the statistical summary of the data. What is the minimum, average, and maximum time it takes for food to be prepared once an order is placed? [2 marks]"
   ]
  },
  {
   "cell_type": "code",
   "execution_count": 94,
   "metadata": {
    "id": "WprQBgOSJY_T"
   },
   "outputs": [
    {
     "data": {
      "text/plain": [
       "count    1898.000000\n",
       "mean       27.371970\n",
       "std         4.632481\n",
       "min        20.000000\n",
       "25%        23.000000\n",
       "50%        27.000000\n",
       "75%        31.000000\n",
       "max        35.000000\n",
       "Name: food_preparation_time, dtype: float64"
      ]
     },
     "execution_count": 94,
     "metadata": {},
     "output_type": "execute_result"
    }
   ],
   "source": [
    "# Write your code here\n",
    "# The .describe method or the .mean(), .median(), .max() functions can be used\n",
    "df['food_preparation_time'].describe()"
   ]
  },
  {
   "cell_type": "markdown",
   "metadata": {
    "id": "9YbSOR5wJY_T"
   },
   "source": [
    "#### Observations:\n"
   ]
  },
  {
   "cell_type": "markdown",
   "metadata": {
    "id": "cw3l58z_JY_T"
   },
   "source": [
    "### **Question 5:** How many orders are not rated? [1 mark]"
   ]
  },
  {
   "cell_type": "code",
   "execution_count": 95,
   "metadata": {
    "id": "hEzDUL9wgksi"
   },
   "outputs": [
    {
     "data": {
      "text/plain": [
       "(736, 9)"
      ]
     },
     "execution_count": 95,
     "metadata": {},
     "output_type": "execute_result"
    }
   ],
   "source": [
    "# Write the code here\n",
    "# Finding all the rows where the rating column has value equal to 'Not given' and using the first value as the row count\n",
    "df[df['rating'] == 'Not given'].shape"
   ]
  },
  {
   "cell_type": "markdown",
   "metadata": {
    "id": "5E0O_oviJY_T"
   },
   "source": [
    "#### Observations:\n"
   ]
  },
  {
   "cell_type": "markdown",
   "metadata": {
    "id": "7msIfXE-JY_T"
   },
   "source": [
    "### Exploratory Data Analysis (EDA)"
   ]
  },
  {
   "cell_type": "markdown",
   "metadata": {
    "id": "-2xfI28YJY_T"
   },
   "source": [
    "### Univariate Analysis"
   ]
  },
  {
   "cell_type": "markdown",
   "metadata": {
    "id": "0RHZnugBJY_U"
   },
   "source": [
    "### **Question 6:** Explore all the variables and provide observations on their distributions. (Generally, histograms, boxplots, countplots, etc. are used for univariate exploration.) [9 marks]"
   ]
  },
  {
   "cell_type": "code",
   "execution_count": 96,
   "metadata": {
    "id": "rU5ZqISjJY_U",
    "scrolled": true
   },
   "outputs": [
    {
     "data": {
      "image/png": "[encoded data removed]",
      "text/plain": [
       "<Figure size 432x288 with 1 Axes>"
      ]
     },
     "metadata": {
      "needs_background": "light"
     },
     "output_type": "display_data"
    }
   ],
   "source": [
    "# Write the code here\n",
    "#Count plot to visualize most popular cuisine types\n",
    "sns.countplot(data = df, x = 'cuisine_type');\n",
    "plt.xticks(rotation = 90, );\n",
    "plt.xlabel('Cuisine');\n"
   ]
  },
  {
   "cell_type": "markdown",
   "metadata": {},
   "source": [
    "***\n",
    "\n",
    "Observation\n",
    "\n",
    "The most popular cuisine is American.\n",
    "\n",
    "The least popular cuisine is Vietnamese.\n",
    "\n",
    "\n",
    "***\n"
   ]
  },
  {
   "cell_type": "code",
   "execution_count": 97,
   "metadata": {},
   "outputs": [
    {
     "data": {
      "image/png": "[encoded data removed]",
      "text/plain": [
       "<Figure size 432x288 with 1 Axes>"
      ]
     },
     "metadata": {
      "needs_background": "light"
     },
     "output_type": "display_data"
    }
   ],
   "source": [
    "#Histogram to visualize frequency of orders in weekdays vs weekends\n",
    "sns.histplot(data = df, x = 'day_of_the_week')\n",
    "plt.xlabel('Day');"
   ]
  },
  {
   "cell_type": "markdown",
   "metadata": {},
   "source": [
    "***\n",
    "\n",
    "Observation\n",
    "\n",
    "Customers order more on the weekends compared to weekdays\n",
    "\n",
    "***\n"
   ]
  },
  {
   "cell_type": "code",
   "execution_count": 98,
   "metadata": {},
   "outputs": [
    {
     "data": {
      "image/png": "[encoded data removed]",
      "text/plain": [
       "<Figure size 432x288 with 1 Axes>"
      ]
     },
     "metadata": {
      "needs_background": "light"
     },
     "output_type": "display_data"
    }
   ],
   "source": [
    "#Box plot to visualize rating distribution\n",
    "sns.countplot(data = df, x = 'rating');"
   ]
  },
  {
   "cell_type": "markdown",
   "metadata": {},
   "source": [
    "***\n",
    "\n",
    "Observation\n",
    "\n",
    "The most frequent value for ratings is 'Not given'.\n",
    "\n",
    "There are no ratings of 1 or 2.\n",
    "\n",
    "***"
   ]
  },
  {
   "cell_type": "code",
   "execution_count": 99,
   "metadata": {},
   "outputs": [
    {
     "name": "stdout",
     "output_type": "stream",
     "text": [
      "The average:  16.498851422550082\n"
     ]
    },
    {
     "data": {
      "image/png": "[encoded data removed]",
      "text/plain": [
       "<Figure size 432x288 with 1 Axes>"
      ]
     },
     "metadata": {
      "needs_background": "light"
     },
     "output_type": "display_data"
    }
   ],
   "source": [
    "#Box plot to visualize the distribution of cost per order\n",
    "sns.boxplot(data = df, x ='cost_of_the_order', showmeans = True);\n",
    "plt.xlabel('Cost of Order');\n",
    "print(\"The average: \", df['cost_of_the_order'].mean())"
   ]
  },
  {
   "cell_type": "markdown",
   "metadata": {},
   "source": [
    "***\n",
    "Observation\n",
    "\n",
    "\n",
    "The average cost of the orders is 16 dollars and 50 cents.\n",
    "\n",
    "Half of customer orders are less than 14 dollars, while the other half are more than 14 dollars. \n",
    "\n",
    "***"
   ]
  },
  {
   "cell_type": "code",
   "execution_count": 100,
   "metadata": {},
   "outputs": [
    {
     "name": "stdout",
     "output_type": "stream",
     "text": [
      "The average:  27.371970495258168\n"
     ]
    },
    {
     "data": {
      "image/png": "[encoded data removed]",
      "text/plain": [
       "<Figure size 432x288 with 1 Axes>"
      ]
     },
     "metadata": {
      "needs_background": "light"
     },
     "output_type": "display_data"
    }
   ],
   "source": [
    "#Box plot to visualize food preparation time distribution\n",
    "sns.boxplot(data = df, x = 'food_preparation_time', showmeans = True)\n",
    "plt.xlabel('Food Preparation Time');\n",
    "print(\"The average: \", df['food_preparation_time'].mean())"
   ]
  },
  {
   "cell_type": "markdown",
   "metadata": {},
   "source": [
    "***\n",
    "Observation\n",
    "\n",
    "\n",
    "The average food preparation time is 27 minutes and 37 seconds.\n",
    "\n",
    "50% of orders are prepared under 27 minutes and the other 50% have preparation times of more than 27 minutes. \n",
    "\n",
    "The food preparation time has a normal distribution containing no outliers.\n",
    "***"
   ]
  },
  {
   "cell_type": "code",
   "execution_count": 101,
   "metadata": {},
   "outputs": [
    {
     "name": "stdout",
     "output_type": "stream",
     "text": [
      "The average:  24.161749209694417\n"
     ]
    },
    {
     "data": {
      "image/png": "[encoded data removed]",
      "text/plain": [
       "<Figure size 432x288 with 1 Axes>"
      ]
     },
     "metadata": {
      "needs_background": "light"
     },
     "output_type": "display_data"
    }
   ],
   "source": [
    "sns.boxplot(data = df, x = 'delivery_time', showmeans= True)\n",
    "plt.xlabel('Delivery Time');\n",
    "print(\"The average: \", df['delivery_time'].mean())"
   ]
  },
  {
   "cell_type": "markdown",
   "metadata": {},
   "source": [
    "***\n",
    "Observation\n",
    "\n",
    "\n",
    "The average delivery time is 24 minutes.\n",
    "\n",
    "50% of order delivery times are under 25 minutes, and the other 50% order delivery times are more than 25 minutes.\n",
    "***"
   ]
  },
  {
   "cell_type": "markdown",
   "metadata": {
    "id": "K9CqA5H_JY_U"
   },
   "source": [
    "### **Question 7**: Which are the top 5 restaurants in terms of the number of orders received? [1 mark]"
   ]
  },
  {
   "cell_type": "code",
   "execution_count": 102,
   "metadata": {
    "id": "PaJZ3wlOJY_U"
   },
   "outputs": [
    {
     "data": {
      "text/plain": [
       "Shake Shack                  219\n",
       "The Meatball Shop            132\n",
       "Blue Ribbon Sushi            119\n",
       "Blue Ribbon Fried Chicken     96\n",
       "Parm                          68\n",
       "                            ... \n",
       "Sushi Choshi                   1\n",
       "Dos Caminos Soho               1\n",
       "La Follia                      1\n",
       "Philippe Chow                  1\n",
       "'wichcraft                     1\n",
       "Name: restaurant_name, Length: 178, dtype: int64"
      ]
     },
     "execution_count": 102,
     "metadata": {},
     "output_type": "execute_result"
    }
   ],
   "source": [
    "# Top 5 restaurants to receive orders\n",
    "df['restaurant_name'].value_counts()"
   ]
  },
  {
   "cell_type": "markdown",
   "metadata": {
    "id": "tnjhWgUfJY_U"
   },
   "source": [
    "#### Observations:\n",
    "The top 5 restaurants are:\n",
    "- Shake Shack\n",
    "- The Meatball Shop\n",
    "- Blue Ribbon Sushi\n",
    "- Blue Ribbon Fried Chicken\n",
    "- Parm"
   ]
  },
  {
   "cell_type": "markdown",
   "metadata": {
    "id": "gWPMqGq0JY_U"
   },
   "source": [
    "### **Question 8**: Which is the most popular cuisine on weekends? [1 mark]"
   ]
  },
  {
   "cell_type": "code",
   "execution_count": 103,
   "metadata": {
    "id": "c-Xnus3VJY_U"
   },
   "outputs": [
    {
     "data": {
      "text/plain": [
       "American          415\n",
       "Japanese          335\n",
       "Italian           207\n",
       "Chinese           163\n",
       "Mexican            53\n",
       "Indian             49\n",
       "Mediterranean      32\n",
       "Middle Eastern     32\n",
       "Thai               15\n",
       "French             13\n",
       "Korean             11\n",
       "Southern           11\n",
       "Spanish            11\n",
       "Vietnamese          4\n",
       "Name: cuisine_type, dtype: int64"
      ]
     },
     "execution_count": 103,
     "metadata": {},
     "output_type": "execute_result"
    }
   ],
   "source": [
    "# Write the code here\n",
    "df1 = df[df['day_of_the_week'] == 'Weekend']\n",
    "df1['cuisine_type'].value_counts()"
   ]
  },
  {
   "cell_type": "markdown",
   "metadata": {
    "id": "bpQ270TUJY_U"
   },
   "source": [
    "#### Observations:\n",
    "\n",
    "American cuisine is the most popular cuisine on weekends"
   ]
  },
  {
   "cell_type": "markdown",
   "metadata": {
    "id": "88xgTqkxJY_U"
   },
   "source": [
    "### **Question 9**: What percentage of the orders cost more than 20 dollars? [2 marks]"
   ]
  },
  {
   "cell_type": "code",
   "execution_count": 104,
   "metadata": {
    "id": "OTpHyTdzJY_U"
   },
   "outputs": [
    {
     "data": {
      "text/plain": [
       "29.24130663856691"
      ]
     },
     "execution_count": 104,
     "metadata": {},
     "output_type": "execute_result"
    }
   ],
   "source": [
    "# Write the code here\n",
    "df1 = df[df['cost_of_the_order'] > 20]\n",
    "(df1.shape[0]*100)/df.shape[0]"
   ]
  },
  {
   "cell_type": "markdown",
   "metadata": {
    "id": "77KNAC5zJY_U"
   },
   "source": [
    "#### Observations:\n",
    "29% of orders cost more than 20 dollars."
   ]
  },
  {
   "cell_type": "markdown",
   "metadata": {
    "id": "HFyHn7hsJY_V"
   },
   "source": [
    "### **Question 10**: What is the mean order delivery time? [1 mark]"
   ]
  },
  {
   "cell_type": "code",
   "execution_count": 105,
   "metadata": {
    "id": "cyFL13hNJY_V"
   },
   "outputs": [
    {
     "data": {
      "text/plain": [
       "24.161749209694417"
      ]
     },
     "execution_count": 105,
     "metadata": {},
     "output_type": "execute_result"
    }
   ],
   "source": [
    "# Write the code here\n",
    "df['delivery_time'].mean()"
   ]
  },
  {
   "cell_type": "markdown",
   "metadata": {
    "id": "F35SRV-HJY_V"
   },
   "source": [
    "#### Observations:\n",
    "The mean delivery time is 24 minutes"
   ]
  },
  {
   "cell_type": "markdown",
   "metadata": {
    "id": "48IjaOuDJY_V"
   },
   "source": [
    "### **Question 11:** The company has decided to give 20% discount vouchers to the top 3 most frequent customers. Find the IDs of these customers and the number of orders they placed. [1 mark]"
   ]
  },
  {
   "cell_type": "code",
   "execution_count": 106,
   "metadata": {
    "id": "Hz8-DE4Zge0j"
   },
   "outputs": [
    {
     "data": {
      "text/plain": [
       "52832    13\n",
       "47440    10\n",
       "83287     9\n",
       "Name: customer_id, dtype: int64"
      ]
     },
     "execution_count": 106,
     "metadata": {},
     "output_type": "execute_result"
    }
   ],
   "source": [
    "# Write the code here\n",
    "df['customer_id'].value_counts().head(3)"
   ]
  },
  {
   "cell_type": "markdown",
   "metadata": {
    "id": "9tWVwfX6JY_V"
   },
   "source": [
    "#### Observations:\n",
    "Customer 52832 has placed 13 orders\n",
    "\n",
    "Customer 47440 has placed 10 orders\n",
    "\n",
    "Customer 83287 has placed 9 orders"
   ]
  },
  {
   "cell_type": "markdown",
   "metadata": {
    "id": "AfIc2jPaJY_V"
   },
   "source": [
    "### Multivariate Analysis"
   ]
  },
  {
   "cell_type": "markdown",
   "metadata": {
    "id": "iqiS0RT_JY_V"
   },
   "source": [
    "### **Question 12**: Perform a multivariate analysis to explore relationships between the important variables in the dataset. (It is a good idea to explore relations between numerical variables as well as relations between numerical and categorical variables) [10 marks]\n"
   ]
  },
  {
   "cell_type": "code",
   "execution_count": 107,
   "metadata": {
    "id": "3qt4MCNTJY_V"
   },
   "outputs": [
    {
     "data": {
      "image/png": "[encoded data removed]",
      "text/plain": [
       "<Figure size 432x288 with 1 Axes>"
      ]
     },
     "metadata": {
      "needs_background": "light"
     },
     "output_type": "display_data"
    }
   ],
   "source": [
    "# Write the code here\n",
    "df['total_time'] = df['food_preparation_time']+df['delivery_time']\n",
    "sns.scatterplot(data = df, x = 'cost_of_the_order', y = 'total_time');"
   ]
  },
  {
   "cell_type": "markdown",
   "metadata": {},
   "source": [
    "Observation: The cost of the order does not impact the total time it takes to deliver the order to customer."
   ]
  },
  {
   "cell_type": "code",
   "execution_count": 108,
   "metadata": {},
   "outputs": [
    {
     "data": {
      "image/png": "[encoded data removed]",
      "text/plain": [
       "<Figure size 360x360 with 1 Axes>"
      ]
     },
     "metadata": {
      "needs_background": "light"
     },
     "output_type": "display_data"
    }
   ],
   "source": [
    "sns.catplot(data = df, x ='day_of_the_week', y = 'delivery_time', kind = 'bar');"
   ]
  },
  {
   "cell_type": "markdown",
   "metadata": {},
   "source": [
    "Observation: The delivery time on a weekday is longer than the weekend."
   ]
  },
  {
   "cell_type": "code",
   "execution_count": 109,
   "metadata": {},
   "outputs": [
    {
     "data": {
      "image/png": "[encoded data removed]",
      "text/plain": [
       "<Figure size 360x360 with 1 Axes>"
      ]
     },
     "metadata": {
      "needs_background": "light"
     },
     "output_type": "display_data"
    }
   ],
   "source": [
    "sns.catplot(data = df, x = 'rating', y = 'total_time', kind = 'bar');"
   ]
  },
  {
   "cell_type": "markdown",
   "metadata": {},
   "source": [
    "Observation: The total time does not impact the overall ratings."
   ]
  },
  {
   "cell_type": "code",
   "execution_count": 110,
   "metadata": {},
   "outputs": [
    {
     "data": {
      "image/png": "[encoded data removed]",
      "text/plain": [
       "<Figure size 432x288 with 2 Axes>"
      ]
     },
     "metadata": {
      "needs_background": "light"
     },
     "output_type": "display_data"
    }
   ],
   "source": [
    "numerical_variables = ['cost_of_the_order', 'food_preparation_time', 'delivery_time']\n",
    "sns.heatmap(df[numerical_variables].corr(), annot=True, vmin=-1, vmax=1, fmt=\".2f\")\n",
    "plt.show()"
   ]
  },
  {
   "cell_type": "code",
   "execution_count": 111,
   "metadata": {},
   "outputs": [
    {
     "data": {
      "text/plain": [
       "[]"
      ]
     },
     "execution_count": 111,
     "metadata": {},
     "output_type": "execute_result"
    },
    {
     "data": {
      "image/png": "[encoded data removed]",
      "text/plain": [
       "<Figure size 432x288 with 1 Axes>"
      ]
     },
     "metadata": {
      "needs_background": "light"
     },
     "output_type": "display_data"
    }
   ],
   "source": [
    "sns.countplot(data = df, x = 'cuisine_type', hue = 'rating')\n",
    "plt.xticks(rotation = 90);\n",
    "plt.plot(figsize = (50,50))"
   ]
  },
  {
   "cell_type": "markdown",
   "metadata": {
    "id": "YLkMf09YJY_V"
   },
   "source": [
    "### **Question 13:** The company wants to provide a promotional offer in the advertisement of the restaurants. The condition to get the offer is that the restaurants must have a rating count of more than 50 and the average rating should be greater than 4. Find the restaurants fulfilling the criteria to get the promotional offer. [3 marks]"
   ]
  },
  {
   "cell_type": "code",
   "execution_count": 112,
   "metadata": {
    "id": "0M_QDvbYJY_V"
   },
   "outputs": [
    {
     "data": {
      "text/html": [
       "<div>\n",
       "<style scoped>\n",
       "    .dataframe tbody tr th:only-of-type {\n",
       "        vertical-align: middle;\n",
       "    }\n",
       "\n",
       "    .dataframe tbody tr th {\n",
       "        vertical-align: top;\n",
       "    }\n",
       "\n",
       "    .dataframe thead th {\n",
       "        text-align: right;\n",
       "    }\n",
       "</style>\n",
       "<table border=\"1\" class=\"dataframe\">\n",
       "  <thead>\n",
       "    <tr style=\"text-align: right;\">\n",
       "      <th></th>\n",
       "      <th>restaurant_name</th>\n",
       "      <th>rating</th>\n",
       "    </tr>\n",
       "  </thead>\n",
       "  <tbody>\n",
       "    <tr>\n",
       "      <th>0</th>\n",
       "      <td>Shake Shack</td>\n",
       "      <td>133</td>\n",
       "    </tr>\n",
       "    <tr>\n",
       "      <th>1</th>\n",
       "      <td>The Meatball Shop</td>\n",
       "      <td>84</td>\n",
       "    </tr>\n",
       "    <tr>\n",
       "      <th>2</th>\n",
       "      <td>Blue Ribbon Sushi</td>\n",
       "      <td>73</td>\n",
       "    </tr>\n",
       "    <tr>\n",
       "      <th>3</th>\n",
       "      <td>Blue Ribbon Fried Chicken</td>\n",
       "      <td>64</td>\n",
       "    </tr>\n",
       "    <tr>\n",
       "      <th>4</th>\n",
       "      <td>RedFarm Broadway</td>\n",
       "      <td>41</td>\n",
       "    </tr>\n",
       "  </tbody>\n",
       "</table>\n",
       "</div>"
      ],
      "text/plain": [
       "             restaurant_name  rating\n",
       "0                Shake Shack     133\n",
       "1          The Meatball Shop      84\n",
       "2          Blue Ribbon Sushi      73\n",
       "3  Blue Ribbon Fried Chicken      64\n",
       "4           RedFarm Broadway      41"
      ]
     },
     "execution_count": 112,
     "metadata": {},
     "output_type": "execute_result"
    }
   ],
   "source": [
    "# Filter the rated restaurants\n",
    "df_rated = df[df['rating'] != 'Not given'].copy()\n",
    "\n",
    "# Convert rating column from object to integer\n",
    "df_rated['rating'] = df_rated['rating'].astype('int')  \n",
    "\n",
    "# Create a dataframe that contains the restaurant names with their rating counts\n",
    "df_rating_count = df_rated.groupby(['restaurant_name'])['rating'].count().sort_values(ascending = False).reset_index()\n",
    "df_rating_count.head() \n",
    "\n"
   ]
  },
  {
   "cell_type": "code",
   "execution_count": 113,
   "metadata": {},
   "outputs": [
    {
     "data": {
      "text/html": [
       "<div>\n",
       "<style scoped>\n",
       "    .dataframe tbody tr th:only-of-type {\n",
       "        vertical-align: middle;\n",
       "    }\n",
       "\n",
       "    .dataframe tbody tr th {\n",
       "        vertical-align: top;\n",
       "    }\n",
       "\n",
       "    .dataframe thead th {\n",
       "        text-align: right;\n",
       "    }\n",
       "</style>\n",
       "<table border=\"1\" class=\"dataframe\">\n",
       "  <thead>\n",
       "    <tr style=\"text-align: right;\">\n",
       "      <th></th>\n",
       "      <th>restaurant_name</th>\n",
       "      <th>rating</th>\n",
       "    </tr>\n",
       "  </thead>\n",
       "  <tbody>\n",
       "    <tr>\n",
       "      <th>0</th>\n",
       "      <td>The Meatball Shop</td>\n",
       "      <td>4.511905</td>\n",
       "    </tr>\n",
       "    <tr>\n",
       "      <th>1</th>\n",
       "      <td>Blue Ribbon Fried Chicken</td>\n",
       "      <td>4.328125</td>\n",
       "    </tr>\n",
       "    <tr>\n",
       "      <th>2</th>\n",
       "      <td>Shake Shack</td>\n",
       "      <td>4.278195</td>\n",
       "    </tr>\n",
       "    <tr>\n",
       "      <th>3</th>\n",
       "      <td>Blue Ribbon Sushi</td>\n",
       "      <td>4.219178</td>\n",
       "    </tr>\n",
       "  </tbody>\n",
       "</table>\n",
       "</div>"
      ],
      "text/plain": [
       "             restaurant_name    rating\n",
       "0          The Meatball Shop  4.511905\n",
       "1  Blue Ribbon Fried Chicken  4.328125\n",
       "2                Shake Shack  4.278195\n",
       "3          Blue Ribbon Sushi  4.219178"
      ]
     },
     "execution_count": 113,
     "metadata": {},
     "output_type": "execute_result"
    }
   ],
   "source": [
    "# Get the restaurant names that have rating count more than 50\n",
    "rest_names = df_rating_count[df_rating_count['rating']>50]['restaurant_name']\n",
    "rest_names\n",
    "df_mean_4 = df_rated[df_rated['restaurant_name'].isin(rest_names)].copy()\n",
    "df_mean_4.groupby(['restaurant_name'])['rating'].mean().sort_values(ascending = False).reset_index().dropna()\n"
   ]
  },
  {
   "cell_type": "markdown",
   "metadata": {
    "id": "10uryUMhJY_V"
   },
   "source": [
    "#### Observations:\n"
   ]
  },
  {
   "cell_type": "markdown",
   "metadata": {
    "id": "1gvWBkRUJY_V"
   },
   "source": [
    "### **Question 14:** The company charges the restaurant 25% on the orders having cost greater than 20 dollars and 15% on the orders having cost greater than 5 dollars. Find the net revenue generated by the company across all orders. [3 marks]"
   ]
  },
  {
   "cell_type": "code",
   "execution_count": 114,
   "metadata": {
    "id": "rEjbnTNEJY_W"
   },
   "outputs": [
    {
     "name": "stdout",
     "output_type": "stream",
     "text": [
      "The net revenue is around 6166 dollars.\n"
     ]
    }
   ],
   "source": [
    "# Write the code here\n",
    "def net_revenue(x):\n",
    "    if x > 20:\n",
    "        return x*0.25\n",
    "    if x > 5:\n",
    "        return x*0.15\n",
    "    else:\n",
    "        return x*0\n",
    "    \n",
    "df['Revenue'] = df['cost_of_the_order'].apply(net_revenue)\n",
    "df.head()\n",
    "total_revenue = df['Revenue'].sum()\n",
    "print('The net revenue is around', round(total_revenue), 'dollars.')"
   ]
  },
  {
   "cell_type": "markdown",
   "metadata": {
    "id": "XHCEJgH0JY_W"
   },
   "source": [
    "#### Observations:\n"
   ]
  },
  {
   "cell_type": "markdown",
   "metadata": {
    "id": "pRlVW-oeJY_W"
   },
   "source": [
    "### **Question 15:** The company wants to analyze the total time required to deliver the food. What percentage of orders take more than 60 minutes to get delivered from the time the order is placed? (The food has to be prepared and then delivered.) [2 marks]"
   ]
  },
  {
   "cell_type": "code",
   "execution_count": 115,
   "metadata": {
    "id": "zxoTrxfLJY_W"
   },
   "outputs": [
    {
     "name": "stdout",
     "output_type": "stream",
     "text": [
      "11 percent of orders take more than 60 minutes.\n"
     ]
    }
   ],
   "source": [
    "# Write the code here\n",
    "total_time = df[df['total_time']>60]\n",
    "more_than_60 = round((total_time.shape[0]*100)/df.shape[0])\n",
    "print(more_than_60, \"percent of orders take more than 60 minutes.\")"
   ]
  },
  {
   "cell_type": "markdown",
   "metadata": {
    "id": "iqzBXn2yJY_W"
   },
   "source": [
    "#### Observations:\n"
   ]
  },
  {
   "cell_type": "markdown",
   "metadata": {
    "id": "bUd6cYpPJY_W"
   },
   "source": [
    "### **Question 16:** The company wants to analyze the delivery time of the orders on weekdays and weekends. How does the mean delivery time vary during weekdays and weekends? [2 marks]"
   ]
  },
  {
   "cell_type": "code",
   "execution_count": 116,
   "metadata": {
    "id": "pIU5xZZ6JY_W"
   },
   "outputs": [
    {
     "name": "stdout",
     "output_type": "stream",
     "text": [
      "The average delivery time on weekends is  22 minutes.\n",
      "The average delivery time on weekday is 28 minutes.\n"
     ]
    },
    {
     "data": {
      "image/png": "[encoded data removed]",
      "text/plain": [
       "<Figure size 432x288 with 1 Axes>"
      ]
     },
     "metadata": {
      "needs_background": "light"
     },
     "output_type": "display_data"
    }
   ],
   "source": [
    "# Write the code here\n",
    "sns.boxplot(data = df, x = 'day_of_the_week', y = 'delivery_time', showmeans = True);\n",
    "weekend = df[df['day_of_the_week'] == 'Weekend']\n",
    "weekday = df[df['day_of_the_week'] == 'Weekday']\n",
    "print(\"The average delivery time on weekends is \", round(weekend['delivery_time'].mean()), \"minutes.\")\n",
    "print(\"The average delivery time on weekday is\",round( weekday['delivery_time'].mean()), \"minutes.\")"
   ]
  },
  {
   "cell_type": "markdown",
   "metadata": {
    "id": "8H-ODxbVJY_W"
   },
   "source": [
    "#### Observations:\n"
   ]
  },
  {
   "cell_type": "markdown",
   "metadata": {
    "id": "17roJywaJY_W"
   },
   "source": [
    "### Conclusion and Recommendations"
   ]
  },
  {
   "cell_type": "markdown",
   "metadata": {
    "id": "ZdX2Wz4FJY_W"
   },
   "source": [
    "### **Question 17:** What are your conclusions from the analysis? What recommendations would you like to share to help improve the business? (You can use cuisine type and feedback ratings to drive your business recommendations.) [6 marks]"
   ]
  },
  {
   "cell_type": "code",
   "execution_count": 117,
   "metadata": {},
   "outputs": [
    {
     "data": {
      "text/plain": [
       "(3,)"
      ]
     },
     "execution_count": 117,
     "metadata": {},
     "output_type": "execute_result"
    }
   ],
   "source": [
    "#Number of American restaurants available on the app\n",
    "most_popular = df[df['cuisine_type'] == 'American']\n",
    "most_popular['restaurant_name'].value_counts().shape\n",
    "#Number of Vietnamese restaurants available on the app\n",
    "least_popular = df[df['cuisine_type'] == 'Vietnamese']\n",
    "least_popular['restaurant_name'].value_counts().shape"
   ]
  },
  {
   "cell_type": "markdown",
   "metadata": {
    "id": "VTugVsL4Ddz-"
   },
   "source": [
    "### Conclusions:\n",
    "* The average delivery time on a weekday is 6 minutes more than a weekend. \n",
    "* The restaurant with the most rating count and highest average rating is The Meatball Shop. \n",
    "* The popular cuisine types are American, Japanese, Indian, and Chinese respectively. \n",
    "* There are 41 different kinds of American restaurants to choose from which makes up  23 % of the restaurants available. \n",
    "* There are 3 different kinds of Vietnamese restaurants to choose from which makes up 1.7 % of the restaurants available.\n",
    "* American and Japanese have the most 5 star ratings, respectively. "
   ]
  },
  {
   "cell_type": "markdown",
   "metadata": {
    "id": "PWnsI0i_guWJ"
   },
   "source": [
    "### Recommendations:\n",
    "\n",
    "*  Inspect available driver count during the week to decrease the average delivery time. \n",
    "* Gather data that documents months to determine peak seasons. \n",
    "* The month column will also display which month customers prefer to stay in and use the app. \n",
    "* Add more Vietnamese options on the app to avoid bias based on availbility.\n",
    "* To increase net revenue, add a reward system based on total cost per order and the count of those orders to encourage customers to use the app frequently.\n",
    "* Allow customers to input restaurant of their choice as feedback, in the case it is not available on the app. This data can be utilized in the future to determine which new restaurants the app should add. \n",
    "* Add data relating to the weather and cross reference order count to conclude if bad weather results in increased number of orders. \n",
    "* Find days the the most order counts and cross refrence with holidays or special events such as a sports game. Add promotions based on those orders to increase net revenue\n",
    "* Add a timestamp to determine peak times, and confirm that enough delivery drivers are available (such as lunch time, or after work)"
   ]
  },
  {
   "cell_type": "markdown",
   "metadata": {
    "id": "tSoucKKbg9Hc"
   },
   "source": [
    "---"
   ]
  }
 ],
 "metadata": {
  "colab": {
   "collapsed_sections": [],
   "name": "PYF_Project_LearnerNotebook_FullCode.ipynb",
   "provenance": []
  },
  "kernelspec": {
   "display_name": "Python 3 (ipykernel)",
   "language": "python",
   "name": "python3"
  },
  "language_info": {
   "codemirror_mode": {
    "name": "ipython",
    "version": 3
   },
   "file_extension": ".py",
   "mimetype": "text/x-python",
   "name": "python",
   "nbconvert_exporter": "python",
   "pygments_lexer": "ipython3",
   "version": "3.9.12"
  }
 },
 "nbformat": 4,
 "nbformat_minor": 1
}
